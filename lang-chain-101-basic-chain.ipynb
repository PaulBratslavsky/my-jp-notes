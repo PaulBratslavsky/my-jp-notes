{
 "cells": [
  {
   "cell_type": "code",
   "execution_count": null,
   "id": "ec7fc0b0-867b-462a-96fc-e4cc0db45cd6",
   "metadata": {},
   "outputs": [],
   "source": [
    "import os\n",
    "from dotenv import dotenv_values\n",
    "\n",
    "from langchain_openai import ChatOpenAI\n",
    "from langchain_core.prompts import PromptTemplate, PipelinePromptTemplate\n",
    "\n",
    "# Get API key from environment variables\n",
    "config = dotenv_values(\".env\")\n",
    "OPEN_AI_API_KEY = config[\"OPEN_AI_API_KEY\"]\n",
    "\n",
    "# Check if API key exists\n",
    "if not OPEN_AI_API_KEY:\n",
    "    raise ValueError(\n",
    "        \"OPENAI_API_KEY not found in environment variables. Please add it to your .env file.\")\n",
    "\n",
    "\n",
    "config = dotenv_values(\".env\")\n",
    "OPEN_AI_API_KEY = config[\"OPEN_AI_API_KEY\"]\n",
    "\n",
    "model = ChatOpenAI(\n",
    "    model=\"gpt-4o-mini\",\n",
    "    api_key=OPEN_AI_API_KEY\n",
    ")\n"
   ]
  },
  {
   "cell_type": "code",
   "execution_count": null,
   "id": "27df9960-82b7-4ed6-8ca9-be090f319bf2",
   "metadata": {},
   "outputs": [],
   "source": [
    "print(\"Create Templates\")\n",
    "\n",
    "code_template = PromptTemplate(\n",
    "    input_variables=[\"language\", \"task\"],\n",
    "    template=\"Write a vary short {language} function that will complete the following task: {task}: only return the function declaration code, no other text\"\n",
    ")\n",
    "\n",
    "test_template = PromptTemplate(\n",
    "    input_variables=[\"language\", \"code\"],\n",
    "    template=\"Write a very short unit test for the following {code} using {language} programming language. Only return the test code, no other text\"\n",
    ")\n",
    "\n",
    "instruction_template = PromptTemplate(\n",
    "    input_variables=[\"language\", \"code\", \"test\"],\n",
    "    template=\"I will provide you with a {language} function and its test. Please give brief instructions on how to implement and run them:\\n\\nFunction:\\n{code}\\n\\nTest:\\n{test}\\n\\nProvide clear, concise instructions.\"\n",
    ")"
   ]
  },
  {
   "cell_type": "code",
   "execution_count": null,
   "id": "218d8c34-65cb-4fa3-a5c3-2e81b9bdbd6d",
   "metadata": {},
   "outputs": [],
   "source": [
    "# Define the pipeline\n",
    "print(\"Define the pipelines\")\n",
    "\n",
    "pipeline_prompts = [\n",
    "    (\"code\", code_template),\n",
    "    (\"test\", test_template),\n",
    "    (\"instructions\", instruction_template)\n",
    "]\n",
    "\n",
    "# Initialize input dictionary with initial parameters\n",
    "my_input = {\n",
    "    \"language\": \"Python\",\n",
    "    \"task\": \"Create a function that returns the surface area of a square.\"\n",
    "}"
   ]
  },
  {
   "cell_type": "code",
   "execution_count": null,
   "id": "68a42f91-11ba-402c-82fc-3cdbb5c97816",
   "metadata": {},
   "outputs": [],
   "source": [
    "print(\"Process each prompt\")\n",
    "\n",
    "results = {}\n",
    "for name, prompt in pipeline_prompts:\n",
    "    # Get the response from the model for each prompt\n",
    "    prompt_response = model.invoke(prompt.invoke(my_input).to_string())\n",
    "    results[name] = prompt_response.content\n",
    "    \n",
    "    # Update input dictionary for next prompt\n",
    "    my_input[name] = prompt_response.content\n",
    "\n",
    "    # Here you could add your database saving logic, for example:\n",
    "    # save_to_database(name, prompt_response.content)"
   ]
  },
  {
   "cell_type": "code",
   "execution_count": null,
   "id": "01cd1fe8-7238-401b-b164-6de907ad385c",
   "metadata": {},
   "outputs": [],
   "source": [
    "# Get final response from the model\n",
    "print(\"Getting Final Response...\")\n",
    "response = model.invoke(my_input[\"instructions\"])\n",
    "\n",
    "\n",
    "print(\"Response\")\n",
    "print(response.content)"
   ]
  },
  {
   "cell_type": "code",
   "execution_count": null,
   "id": "0aee1841-b111-4370-a015-6ee25180b75a",
   "metadata": {},
   "outputs": [],
   "source": []
  }
 ],
 "metadata": {
  "kernelspec": {
   "display_name": "Python 3.11",
   "language": "python",
   "name": "python311"
  },
  "language_info": {
   "codemirror_mode": {
    "name": "ipython",
    "version": 3
   },
   "file_extension": ".py",
   "mimetype": "text/x-python",
   "name": "python",
   "nbconvert_exporter": "python",
   "pygments_lexer": "ipython3",
   "version": "3.11.11"
  }
 },
 "nbformat": 4,
 "nbformat_minor": 5
}
