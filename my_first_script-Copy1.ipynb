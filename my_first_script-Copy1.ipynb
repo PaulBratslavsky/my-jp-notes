{
 "cells": [
  {
   "cell_type": "code",
   "execution_count": null,
   "id": "ec7fc0b0-867b-462a-96fc-e4cc0db45cd6",
   "metadata": {},
   "outputs": [],
   "source": [
    "import os\n",
    "import json\n",
    "import tempfile\n",
    "import base64\n",
    "\n",
    "from openai import OpenAI\n",
    "from dotenv import dotenv_values\n",
    "\n",
    "from IPython.display import Audio, display\n",
    "\n",
    "config = dotenv_values(\".env\")\n",
    "OPEN_AI_API_KEY = config[\"OPEN_AI_API_KEY\"]\n",
    " \n",
    "client = OpenAI( api_key=OPEN_AI_API_KEY )\n"
   ]
  },
  {
   "cell_type": "code",
   "execution_count": null,
   "id": "f05c85f3-6956-43aa-a9c5-36a39dc95046",
   "metadata": {},
   "outputs": [],
   "source": [
    "print(\"1. Making A Request\")\n",
    "\n",
    "response = client.chat.completions.create(\n",
    "    # model=\"gpt-4o-mini\",\n",
    "    model=\"gpt-4o-audio-preview\",\n",
    "    max_tokens=2000,\n",
    "    audio={\"voice\": \"alloy\", \"format\": \"wav\"}, \n",
    "    modalities=[\"text\", \"audio\"],  # Ensure both text and audio modalities are enabled\n",
    "    # n=2,\n",
    "    messages=[{\"role\": \"user\", \"content\": \"Complete the following: Top 5 reasons why you should learn AI with python with jypitar notebook. Include the question before giving the answer.\"}],\n",
    ")\n",
    "\n",
    "\n",
    "# Check the type of the response\n",
    "print(type(response))\n",
    "\n",
    "print(f\"Response ID: {response.id}\")\n",
    "print(f\"Model: {response.model}\")\n",
    "print(f\"Token Usage: {response.usage}\")\n",
    "\n"
   ]
  },
  {
   "cell_type": "code",
   "execution_count": null,
   "id": "1428d403-6d69-4df9-b0bc-984ad69e1aa6",
   "metadata": {},
   "outputs": [],
   "source": [
    "# Extract the audio data (base64 encoded)\n",
    "audio_base64 = response.choices[0].message.audio.data\n",
    "\n",
    "# Decode the audio data to binary\n",
    "audio_binary = base64.b64decode(audio_base64)\n",
    "\n",
    "# Extract the audio data (base64 encoded)\n",
    "audio_base64 = response.choices[0].message.audio.data\n",
    "\n",
    "# Decode the base64 audio data to binary\n",
    "audio_binary = base64.b64decode(audio_base64)\n",
    "\n",
    "try:\n",
    "    with tempfile.NamedTemporaryFile(delete=True, suffix=\".wav\") as temp_audio:\n",
    "        temp_audio.write(audio_binary)  # Write binary data to the temp file\n",
    "        temp_audio.flush()  # Ensure all data is written to disk\n",
    "        temp_audio_path = temp_audio.name  # Get the path of the temp file\n",
    "\n",
    "        # Play the audio file\n",
    "        display(Audio(filename=temp_audio_path, autoplay=True, rate=30000))\n",
    "\n",
    "    # Temporary file is deleted here\n",
    "    print(f\"The temporary file at {temp_audio_path} has been deleted.\")\n",
    "except Exception as e:\n",
    "    print(f\"An error occurred: {e}\")\n",
    "\n",
    "\n"
   ]
  },
  {
   "cell_type": "code",
   "execution_count": null,
   "id": "f5a07582-2dfc-4ae4-8dd8-d705c4902102",
   "metadata": {},
   "outputs": [],
   "source": []
  }
 ],
 "metadata": {
  "kernelspec": {
   "display_name": "Python 3 (ipykernel)",
   "language": "python",
   "name": "python3"
  },
  "language_info": {
   "codemirror_mode": {
    "name": "ipython",
    "version": 3
   },
   "file_extension": ".py",
   "mimetype": "text/x-python",
   "name": "python",
   "nbconvert_exporter": "python",
   "pygments_lexer": "ipython3",
   "version": "3.13.1"
  }
 },
 "nbformat": 4,
 "nbformat_minor": 5
}
